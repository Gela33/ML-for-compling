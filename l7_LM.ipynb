{
 "cells": [
  {
   "cell_type": "markdown",
   "metadata": {
    "collapsed": true,
    "deletable": true,
    "editable": true,
    "slideshow": {
     "slide_type": "slide"
    }
   },
   "source": [
    "# Языковые модели\n",
    "\n",
    "Какое слово в последовательности вероятнее: \n",
    "\n",
    "Поезд прибыл на\n",
    "* вокзал\n",
    "* север\n",
    "\n",
    "Какая последовательность вероятнее:\n",
    "* Вокзал прибыл поезд на\n",
    "* Поезд прибыл на вокзал\n",
    "\n",
    "Языковая модель [language model, LM]  позволяет оценить вероятность следующего слова в последовательности  $P(w_n | w_1, \\ldots, w_{n-1})$ и оценить вероятность всей последовательности слов $P(w_1, \\ldots, w_n)$."
   ]
  },
  {
   "cell_type": "markdown",
   "metadata": {
    "deletable": true,
    "editable": true,
    "slideshow": {
     "slide_type": "subslide"
    }
   },
   "source": [
    "### Приложения:\n",
    "* Задачи, в которых нужно обработать сложный и зашумленный вход: распознавание речи, распознавание сканированных и рукописных текстов;\n",
    "* Исправление опечаток\n",
    "* Машинный перевод\n",
    "* Подсказка при наборе "
   ]
  },
  {
   "cell_type": "markdown",
   "metadata": {
    "deletable": true,
    "editable": true,
    "slideshow": {
     "slide_type": "subslide"
    }
   },
   "source": [
    "### Виды моделей:\n",
    "* Счетные модели\n",
    "    * цепи Маркова\n",
    "* Нейронные модели, обычно реккурентные нейронные сети с LSTM/GRU\n",
    "* seq2seq архитектуры"
   ]
  },
  {
   "cell_type": "markdown",
   "metadata": {
    "deletable": true,
    "editable": true,
    "slideshow": {
     "slide_type": "slide"
    }
   },
   "source": [
    "## Модель $n$-грам\n",
    "\n",
    "Пусть $w_{1:n}=w_1,\\ldots,w_m$ – последовательность слов.\n",
    "\n",
    "Цепное правило:\n",
    "$ P(w_{1:m}) = P(w_1) P(w_2 | w_1) P(w_3 | w_{1:2}) \\ldots P(w_m | w_{1:m-1}) = \\prod_{k=1}^{m} P(w_k | w_{1:k-1}) $\n",
    "\n",
    "Но оценить $P(w_k | w_1 ^{k-1})$ не легче! "
   ]
  },
  {
   "cell_type": "markdown",
   "metadata": {
    "deletable": true,
    "editable": true,
    "slideshow": {
     "slide_type": "subslide"
    }
   },
   "source": [
    "Переходим к $n$-грамам: $P(w_{i+1} | w_{1:i}) \\approx P(w_{i+1} | w_{i-n:i})  $ , то есть, учитываем $n-1$ предыдущее слово. \n",
    "\n",
    "Модель\n",
    "* униграм: $P(w_k)$\n",
    "* биграм: $P(w_k | w_{k-1})$\n",
    "* триграм: $P(w_k | w_{k-1} w_{k-2})$\n",
    "\n",
    "\n",
    "Т.е. используем Марковские допущения о длине запоминаемой цепочки."
   ]
  },
  {
   "cell_type": "markdown",
   "metadata": {
    "deletable": true,
    "editable": true,
    "slideshow": {
     "slide_type": "fragment"
    }
   },
   "source": [
    "* Вероятность следующего слова в последовательности: $ P(w_{i+1} | w_{1:i}) \\approx P(w_{i-n:i}) $\n",
    "* Вероятность всей последовательности слов: $P(w_{1:n}) = \\prod_{k=1}^l P(w_k | w_{k-n+1: k-1}^) $"
   ]
  },
  {
   "cell_type": "markdown",
   "metadata": {
    "deletable": true,
    "editable": true,
    "slideshow": {
     "slide_type": "subslide"
    }
   },
   "source": [
    "### Качество модели  $n$-грам\n",
    "\n",
    "Перплексия: насколько хорошо модель предсказывает выборку. Чем ниже значение перплексии, тем лучше.\n",
    "\n",
    "$PP(\\texttt{LM}) = 2 ^ {-\\frac{1}{m} \\log_2 \\texttt{LM} (w_i | w_{1:i-1})}$"
   ]
  },
  {
   "cell_type": "markdown",
   "metadata": {
    "deletable": true,
    "editable": true,
    "slideshow": {
     "slide_type": "slide"
    }
   },
   "source": [
    "## Счетные языковые модели\n",
    "\n",
    "### ММП оценки вероятностей\n",
    "$ P_{MLE}(w_k | w_{k-n+1:k-1}) = \\frac{\\texttt{count}(w_{k-n+1:k-1} w_k )}{\\texttt{count}(w_{k-n+1:k-1} )} $\n",
    "\n",
    "В модели биграм:\n",
    "\n",
    "$ P_{MLE}(w_k | w_{k-1}) = \\frac{\\texttt{count}(w_{k-1} w_k )}{\\texttt{count}(w_{k-1} )} $\n",
    "\n",
    "Возникает проблема нулевых вероятностей!"
   ]
  },
  {
   "cell_type": "markdown",
   "metadata": {
    "deletable": true,
    "editable": true,
    "slideshow": {
     "slide_type": "subslide"
    }
   },
   "source": [
    "### Аддитивное сглаживание Лапласа\n",
    "\n",
    "$ P(w_k | w_{k-1}) = \\frac{\\texttt{count}(w_{k-1} w_k ) + \\alpha}{\\texttt{count}(w_{k-1} ) + \\alpha |V|} $"
   ]
  },
  {
   "cell_type": "markdown",
   "metadata": {
    "deletable": true,
    "editable": true,
    "slideshow": {
     "slide_type": "subslide"
    }
   },
   "source": [
    "![AiB](img/aib.png)  "
   ]
  },
  {
   "cell_type": "markdown",
   "metadata": {
    "deletable": true,
    "editable": true,
    "slideshow": {
     "slide_type": "subslide"
    }
   },
   "source": [
    "BOS А и Б сидели на трубе EOS\n",
    "\n",
    "BOS А упало Б пропало EOS\n",
    "\n",
    "BOS что осталось на трубе EOS\n",
    "\n",
    "\n",
    "\n",
    "\n",
    "$P($ и $| $ A $) = \\frac{1}{2}$\n",
    "\n",
    "$P($ Б $| $ и $) = \\frac{1}{1}$\n",
    "\n",
    "$P($ трубе $| $ на $) = \\frac{2}{2}$\n",
    "\n",
    "$P($ сидели $| $ Б $) = \\frac{1}{2}$\n",
    "\n",
    "$P($ на $| $ сидели $) = \\frac{1}{2}$\n"
   ]
  },
  {
   "cell_type": "markdown",
   "metadata": {
    "collapsed": true,
    "deletable": true,
    "editable": true,
    "slideshow": {
     "slide_type": "slide"
    }
   },
   "source": [
    "## Модели биграм в NLTK"
   ]
  },
  {
   "cell_type": "code",
   "execution_count": 21,
   "metadata": {
    "collapsed": true,
    "deletable": true,
    "editable": true,
    "slideshow": {
     "slide_type": "skip"
    }
   },
   "outputs": [],
   "source": [
    "import nltk\n",
    "\n",
    "from sklearn.utils import shuffle\n",
    "\n",
    "from keras.preprocessing.text import Tokenizer\n",
    "from keras.preprocessing.sequence import pad_sequences\n",
    "from keras.layers import LSTM, TimeDistributed, Bidirectional\n",
    "from keras.models import Sequential\n",
    "from keras.layers import Dense, Activation, Embedding, Flatten, Dropout"
   ]
  },
  {
   "cell_type": "code",
   "execution_count": 1,
   "metadata": {
    "collapsed": false,
    "deletable": true,
    "editable": true,
    "slideshow": {
     "slide_type": "subslide"
    }
   },
   "outputs": [
    {
     "name": "stdout",
     "output_type": "stream",
     "text": [
      "['bos aachenosaurus eos', 'bos aardonyx eos', 'bos abdallahsaurus eos', 'bos abelisaurus eos', 'bos abrictosaurus eos', 'bos abrosaurus eos', 'bos abydosaurus eos', 'bos acanthopholis eos', 'bos achelousaurus eos', 'bos acheroraptor eos']\n"
     ]
    }
   ],
   "source": [
    "names = [name.strip().lower() for name in open('dinos.txt').readlines()]\n",
    "print(names[:10])"
   ]
  },
  {
   "cell_type": "code",
   "execution_count": 3,
   "metadata": {
    "collapsed": false,
    "deletable": true,
    "editable": true,
    "slideshow": {
     "slide_type": "subslide"
    }
   },
   "outputs": [
    {
     "name": "stdout",
     "output_type": "stream",
     "text": [
      "['a', 'c', 'h', 'e', 'n', 'o', 's', 'u', 'r', 'd', 'y', 'x', 'b', 'l', 'i', 't', 'p', 'v', 'm', 'g', 'f', 'j', 'k', 'w', 'z', 'q']\n"
     ]
    }
   ],
   "source": [
    "chars = [char  for name in names for char in name]\n",
    "freq = nltk.FreqDist(chars)\n",
    "\n",
    "print(list(freq.keys()))"
   ]
  },
  {
   "cell_type": "code",
   "execution_count": 4,
   "metadata": {
    "collapsed": false,
    "deletable": true,
    "editable": true,
    "slideshow": {
     "slide_type": "subslide"
    }
   },
   "outputs": [
    {
     "data": {
      "text/plain": [
       "FreqDist({'a': 26,\n",
       "          'b': 32,\n",
       "          'c': 109,\n",
       "          'd': 41,\n",
       "          'e': 48,\n",
       "          'f': 7,\n",
       "          'g': 44,\n",
       "          'h': 21,\n",
       "          'i': 26,\n",
       "          'j': 8,\n",
       "          'k': 22,\n",
       "          'l': 146,\n",
       "          'm': 74,\n",
       "          'n': 354,\n",
       "          'o': 27,\n",
       "          'p': 96,\n",
       "          'q': 3,\n",
       "          'r': 131,\n",
       "          's': 187,\n",
       "          't': 213,\n",
       "          'u': 792,\n",
       "          'v': 34,\n",
       "          'w': 10,\n",
       "          'x': 12,\n",
       "          'y': 14,\n",
       "          'z': 10})"
      ]
     },
     "execution_count": 4,
     "metadata": {},
     "output_type": "execute_result"
    }
   ],
   "source": [
    "cfreq = nltk.ConditionalFreqDist(nltk.bigrams(chars))\n",
    "cfreq['a']"
   ]
  },
  {
   "cell_type": "code",
   "execution_count": 5,
   "metadata": {
    "collapsed": false,
    "deletable": true,
    "editable": true,
    "slideshow": {
     "slide_type": "subslide"
    }
   },
   "outputs": [
    {
     "name": "stdout",
     "output_type": "stream",
     "text": [
      "p(a a) = 0.0105\n",
      "p(a b) = 0.0129\n",
      "p(a u) = 0.3185\n"
     ]
    }
   ],
   "source": [
    "cprob = nltk.ConditionalProbDist(cfreq, nltk.MLEProbDist)\n",
    "print('p(a a) = %1.4f' %cprob['a'].prob('a'))\n",
    "print('p(a b) = %1.4f' %cprob['a'].prob('b'))\n",
    "print('p(a u) = %1.4f' %cprob['a'].prob('u'))"
   ]
  },
  {
   "cell_type": "code",
   "execution_count": 6,
   "metadata": {
    "collapsed": false,
    "deletable": true,
    "editable": true,
    "slideshow": {
     "slide_type": "subslide"
    }
   },
   "outputs": [
    {
     "name": "stdout",
     "output_type": "stream",
     "text": [
      "p(a) = 0.1354\n"
     ]
    }
   ],
   "source": [
    "l = sum([freq[char] for char in freq])\n",
    "def unigram_prob(char):\n",
    "    return freq[char] / l\n",
    "print('p(a) = %1.4f' %unigram_prob('a'))"
   ]
  },
  {
   "cell_type": "markdown",
   "metadata": {
    "deletable": true,
    "editable": true,
    "slideshow": {
     "slide_type": "subslide"
    }
   },
   "source": [
    "#### Задание 1\n",
    "\n",
    "1. Напишите функцию для оценки вероятности имени динозавра. \n",
    "2. Найдите наиболее вероятное имя динозавра из данного списка. "
   ]
  },
  {
   "cell_type": "code",
   "execution_count": 7,
   "metadata": {
    "collapsed": false,
    "deletable": true,
    "editable": true,
    "slideshow": {
     "slide_type": "subslide"
    }
   },
   "outputs": [
    {
     "data": {
      "text/plain": [
       "'u'"
      ]
     },
     "execution_count": 7,
     "metadata": {},
     "output_type": "execute_result"
    }
   ],
   "source": [
    "cprob[\"a\"].generate()"
   ]
  },
  {
   "cell_type": "markdown",
   "metadata": {
    "deletable": true,
    "editable": true,
    "slideshow": {
     "slide_type": "subslide"
    }
   },
   "source": [
    "#### Задание 2\n",
    "\n",
    "Напишите функцию для генерации нового имени динозавра фиксированной длины."
   ]
  },
  {
   "cell_type": "markdown",
   "metadata": {
    "deletable": true,
    "editable": true,
    "slideshow": {
     "slide_type": "slide"
    }
   },
   "source": [
    "## Нейронные языковые модели\n",
    "\n",
    "* Вход: $n$-грамы $w_{1:k}$\n",
    "* $v(w_i)$ – эмбеддинг слова $w_i$, $v(w_i) \\in \\mathbb{R}^{d_{emb}}$, $d_{emb}$ – размерность эмбеддинга, $v(w) = E_{[w]}$\n",
    "* $x = [v(w_1), v(w_2), \\ldots , v(w_k)]$\n",
    "\n",
    "$\\widehat{y} = P(w_i | w_{1:k} ) = \\texttt{LM}(w_{1:k}) = \\texttt{softmax}(hW^2 +b^2)$\n",
    "\n",
    "$h = g(xW^1+b^1)$\n",
    "\n",
    "$w_i \\in V$, $E \\in \\mathbb{R}^{|V|\\times d_{emb}}, W^1 \\in \\mathbb{R}^{k \\cdot d_{emb} \\times d_{hid}}, b^1 \\in \\mathbb{R} ^ {d_{hid}}, W^2 \\in \\mathbb{R}^{d_{hid} \\times |V|}, b^2 \\in \\mathbb{R} ^ {|V|}$"
   ]
  },
  {
   "cell_type": "markdown",
   "metadata": {
    "deletable": true,
    "editable": true,
    "slideshow": {
     "slide_type": "subslide"
    }
   },
   "source": [
    "![nnlm](img/nlm1.png)"
   ]
  },
  {
   "cell_type": "markdown",
   "metadata": {
    "slideshow": {
     "slide_type": "subslide"
    }
   },
   "source": [
    "### Семплирование в нейронных языковых моделях \n",
    "### (Генерация текстов с помощью нейронных языковых моделей)\n",
    "\n",
    "1. Задать начальную последовательность символов длины $k$ (/слов)\n",
    "2. Предсказать распределение вероятностей слов с условием на $k$ предыдущих слов\n",
    "3. 1. Выбрать слово с наибольшей вероятностью\n",
    "3. 2. Выбрать слово по предсказаному распределению\n",
    "4. Сдвинуть окно на одно слово и повторить \n",
    "\n",
    "#### Линейный поиск  (beam search)\n",
    "Всегда помним $h$ наиболее вероятных гипотез:\n",
    "1. Для генерации первого слова в последоватительности генерируем $h$ кандидатов, а не 1\n",
    "2. Генерируем $h \\ times h$ кандидатов для второго слова и храним только $h$ наиболее вероятных\n"
   ]
  },
  {
   "cell_type": "markdown",
   "metadata": {
    "deletable": true,
    "editable": true,
    "slideshow": {
     "slide_type": "subslide"
    }
   },
   "source": [
    "![nnlm](img/nlm2.png)"
   ]
  },
  {
   "cell_type": "code",
   "execution_count": 153,
   "metadata": {
    "collapsed": false,
    "deletable": true,
    "editable": true,
    "slideshow": {
     "slide_type": "subslide"
    }
   },
   "outputs": [
    {
     "name": "stdout",
     "output_type": "stream",
     "text": [
      "total chars: 26\n"
     ]
    }
   ],
   "source": [
    "alphabet = list(set(chars))\n",
    "print('total chars:', len(alphabet))"
   ]
  },
  {
   "cell_type": "code",
   "execution_count": 154,
   "metadata": {
    "collapsed": false,
    "deletable": true,
    "editable": true,
    "slideshow": {
     "slide_type": "subslide"
    }
   },
   "outputs": [
    {
     "name": "stdout",
     "output_type": "stream",
     "text": [
      "nb ngrams: 10701\n",
      "a a c h e n\n",
      "a c h e n o\n"
     ]
    }
   ],
   "source": [
    "maxlen = 5\n",
    "step = 1\n",
    "ngrams = []\n",
    "next_chars = []\n",
    "for name in names:\n",
    "    for i in range(0, len(name) - maxlen, step):\n",
    "        ngrams.append(' '.join([char for char in name[i: i + maxlen]]))\n",
    "        next_chars.append(name[i + maxlen])\n",
    "print('nb ngrams:', len(ngrams))\n",
    "print(ngrams[0],next_chars[0])\n",
    "print(ngrams[1],next_chars[1])"
   ]
  },
  {
   "cell_type": "code",
   "execution_count": 164,
   "metadata": {
    "collapsed": false,
    "deletable": true,
    "editable": true,
    "slideshow": {
     "slide_type": "subslide"
    }
   },
   "outputs": [
    {
     "data": {
      "text/plain": [
       "array([ 1,  1, 12, 11,  7], dtype=int32)"
      ]
     },
     "execution_count": 164,
     "metadata": {},
     "output_type": "execute_result"
    }
   ],
   "source": [
    "tokenizer = Tokenizer(num_words=len(alphabet))\n",
    "tokenizer.fit_on_texts(ngrams)\n",
    "\n",
    "sequences = tokenizer.texts_to_sequences(ngrams)\n",
    "X_train = pad_sequences(sequences, maxlen=maxlen)\n",
    "sequences = tokenizer.texts_to_sequences(next_chars)\n",
    "y_train = tokenizer.sequences_to_matrix(sequences)\n",
    "X_train[0]"
   ]
  },
  {
   "cell_type": "code",
   "execution_count": 165,
   "metadata": {
    "collapsed": false,
    "deletable": true,
    "editable": true,
    "slideshow": {
     "slide_type": "subslide"
    }
   },
   "outputs": [],
   "source": [
    "char_index = tokenizer.word_index\n",
    "index_char = {i: c for c, i in char_index.items()}"
   ]
  },
  {
   "cell_type": "code",
   "execution_count": 166,
   "metadata": {
    "collapsed": false,
    "deletable": true,
    "editable": true,
    "slideshow": {
     "slide_type": "subslide"
    }
   },
   "outputs": [],
   "source": [
    "model = Sequential()\n",
    "\n",
    "model.add(Embedding(len(alphabet), 50, input_length=maxlen))\n",
    "model.add(Flatten())\n",
    "model.add(Dense(64, activation = 'softmax'))\n",
    "model.add(Dropout(0.2))\n",
    "model.add(Dense(32, activation = 'softmax'))\n",
    "model.add(Dropout(0.2))\n",
    "model.add(Dense(len(alphabet), activation = 'softmax'))\n",
    "\n",
    "model.compile(loss='categorical_crossentropy', optimizer='adam', metrics=['accuracy'])"
   ]
  },
  {
   "cell_type": "code",
   "execution_count": 167,
   "metadata": {
    "collapsed": false,
    "deletable": true,
    "editable": true,
    "slideshow": {
     "slide_type": "subslide"
    }
   },
   "outputs": [],
   "source": [
    "for iteration in range(1, 100):\n",
    "    X_train_shuffled, y_train_shuffled = shuffle(X_train,y_train)\n",
    "    model.fit(X_train_shuffled, y_train_shuffled, batch_size=len(X_train), epochs=1, verbose = 0)"
   ]
  },
  {
   "cell_type": "code",
   "execution_count": 168,
   "metadata": {
    "collapsed": false,
    "deletable": true,
    "editable": true,
    "slideshow": {
     "slide_type": "subslide"
    }
   },
   "outputs": [],
   "source": [
    "def sample(preds):\n",
    "    # helper function to sample an index from a probability array\n",
    "    preds = np.asarray(preds).astype('float64')\n",
    "    preds = np.log(preds) #/ temperature\n",
    "    exp_preds = np.exp(preds)\n",
    "    preds = exp_preds / np.sum(exp_preds)\n",
    "    probas = np.random.choice(range(len(alphabet)), p = preds)\n",
    "    return probas"
   ]
  },
  {
   "cell_type": "code",
   "execution_count": 177,
   "metadata": {
    "collapsed": false,
    "deletable": true,
    "editable": true,
    "slideshow": {
     "slide_type": "subslide"
    }
   },
   "outputs": [
    {
     "name": "stdout",
     "output_type": "stream",
     "text": [
      "----- Generating with seed: \"katya\"\n",
      "katya\n",
      "katyan\n",
      "katyanf\n",
      "katyanfa\n",
      "katyanfag\n",
      "katyanfagx\n"
     ]
    }
   ],
   "source": [
    "import random\n",
    "import sys\n",
    "\n",
    "generated = ''\n",
    "seed = 'katya'\n",
    "generated += seed\n",
    "print('----- Generating with seed: \"' + seed + '\"')\n",
    "print(generated)\n",
    "\n",
    "for i in range(5):\n",
    "    sequences = tokenizer.texts_to_sequences([' '.join([char for char in generated[-maxlen:]])])\n",
    "    X_pred = pad_sequences(sequences, maxlen=maxlen)\n",
    "    preds = model.predict(X_pred, verbose=0)[0]\n",
    "    next_index = sample(preds)\n",
    "    next_char = index_char[next_index]\n",
    "    generated += next_char\n",
    "    print(generated)"
   ]
  },
  {
   "cell_type": "markdown",
   "metadata": {
    "deletable": true,
    "editable": true,
    "slideshow": {
     "slide_type": "subslide"
    }
   },
   "source": [
    "#### Задание 3\n",
    "\n",
    "Измените код выше так, чтобы генерировались панграvмы – имена динозавров, не содержащие повторяющихся букв"
   ]
  },
  {
   "cell_type": "markdown",
   "metadata": {
    "deletable": true,
    "editable": true,
    "slideshow": {
     "slide_type": "subslide"
    }
   },
   "source": [
    "#### Задание 4\n",
    "\n",
    "Измените функцию семлирования `sample`: добавьте параметр `t`, изпольузуемый для шкалирования вероятностей  `preds`: ```\n",
    "preds /= t\n",
    "``` \n",
    "\n",
    "Как использование этого параметра влияет на генерируемые имена?"
   ]
  },
  {
   "cell_type": "markdown",
   "metadata": {
    "deletable": true,
    "editable": true,
    "slideshow": {
     "slide_type": "slide"
    }
   },
   "source": [
    "### Рекуррентные нейронные языковые модели\n",
    "\n",
    "RNN позволяют уйти от Марковских допущений и позволяют учитывать предысторию произвольной длины.\n",
    "\n",
    "$x_{1:n} = x_1, x_2, \\ldots, x_n$, $x_i \\in \\mathbb{R}^{d_{in}}$\n",
    "\n",
    "$y_n = RNN(x_{1:n})$, $y_n \\in \\mathbb{R}^{d_{out}}$\n",
    "\n",
    "Для каждого префикса $x_{i:i}$ $y_i$ – выходной вектор.\n",
    "\n",
    "$y_i = RNN(x_{1:i})$\n",
    "\n",
    "$y_{1:n} = RNN^{*}(x_{1:n})$, $y_i \\in \\mathbb{R}^{d_{out}}$"
   ]
  },
  {
   "cell_type": "markdown",
   "metadata": {
    "slideshow": {
     "slide_type": "subslide"
    }
   },
   "source": [
    "![rnn](img/rnn1.png)"
   ]
  },
  {
   "cell_type": "markdown",
   "metadata": {
    "slideshow": {
     "slide_type": "slide"
    }
   },
   "source": [
    "$R$ –  рекурсивная функция с двумя входами: $x_i$ и $s_{i-1}$ (вектор состояния)\n",
    "\n",
    "$RNN^{*}(x_{1:n}, s_0) = y_{1:n}$\n",
    "\n",
    "$y_i = O(s_i)$\n",
    "\n",
    "$s_i = R(s_{i-1}, x_i)$\n",
    "\n",
    "$s_i = R(s_{i-1}, x_i) = g(s_{i-1}* W^s + x_i W^x +b$\n",
    "\n",
    "$x_i \\in \\mathbb{R}^{d_{in}}$, $y_i \\in \\mathbb{R}^{d_{out}}$, $s_i \\in \\mathbb{R}^{d_{out}}$\n",
    "\n",
    "$W^x \\in \\mathbb{R}^{d_{in} \\times d_{in}}$, $W^s \\in \\mathbb{R}^{d_{out} \\times d_{out}}$"
   ]
  },
  {
   "cell_type": "markdown",
   "metadata": {
    "slideshow": {
     "slide_type": "slide"
    }
   },
   "source": [
    "![rnn](img/rnn4.png)"
   ]
  },
  {
   "cell_type": "markdown",
   "metadata": {
    "slideshow": {
     "slide_type": "subslide"
    }
   },
   "source": [
    "#### Обучение RNN: backpropogation through time (BPTT)\n",
    "\n",
    "![rnn](img/rnn3.png)"
   ]
  },
  {
   "cell_type": "markdown",
   "metadata": {
    "slideshow": {
     "slide_type": "subslide"
    }
   },
   "source": [
    "#### Сценарии использования RNN\n",
    "\n",
    "* Acceptor: только $y_n$, используемый для дальнейшего предсказания / классификации\n",
    "\n",
    "![rnn](img/rnn5.png)\n",
    "\n",
    "* Encoder: только $y_n$\n",
    "\n",
    "\n",
    "![rnn](img/rnn5.png)\n",
    "\n",
    "\n",
    "* Transducer: выход $t_i$ для каждого входа $x_{1:i}$ – языковые модели,  sequence labelling\n",
    "\n",
    "![rnn](img/rnn2.png)"
   ]
  },
  {
   "cell_type": "markdown",
   "metadata": {
    "slideshow": {
     "slide_type": "subslide"
    }
   },
   "source": [
    "#### Двунаправленная рекуррентная нейронная сеть\n",
    "\n",
    "$x_{1:n}$ – входная последовательность\n",
    "\n",
    "$s_i^f$ –  \"прошлое / прямое состояние\" – основано на $x_{1:i}$\n",
    "\n",
    "$s_i^b$ –  \"будущее / обратное состояние\" – основано на $x_{n:i}$\n",
    "\n",
    "$y_i = [O(s_i^f), O(s_i^b)] = [y_i^f, y_i^b]$\n",
    "\n",
    "![rnn](img/birnn.png)"
   ]
  },
  {
   "cell_type": "markdown",
   "metadata": {
    "slideshow": {
     "slide_type": "subslide"
    }
   },
   "source": [
    "#### Управляемые архитектуры\n",
    "\n",
    "RNN трудно обучать: проблема исчезающего градиента. Уйти от нее помогают управляемые нейроны специального вида: LSTM и GRU.\n",
    "\n",
    "$s_i$ – память нейронной сети. Каждое использование $R$ считывает и видоизменяет всю память. \n",
    "\n",
    "Управляемый доступ к памяти: $g \\in {0,1}^n$:\n",
    "\n",
    "$s_{i+1} \\leftarrow g \\odot x + (1-g) \\odot s_{i}$\n",
    "\n",
    "Дифференцируемое управление:\n",
    "\n",
    "$g \\in \\mathbb{R}^n $:\n",
    "\n",
    "$s_{i+1} \\leftarrow \\sigma(g) \\odot x + (1-g) \\odot s_{i}$\n",
    "\n",
    "http://colah.github.io/posts/2015-08-Understanding-LSTMs/\n",
    "    "
   ]
  },
  {
   "cell_type": "code",
   "execution_count": 178,
   "metadata": {
    "collapsed": false,
    "deletable": true,
    "editable": true,
    "slideshow": {
     "slide_type": "subslide"
    }
   },
   "outputs": [
    {
     "name": "stdout",
     "output_type": "stream",
     "text": [
      "bos a a c h e n o s a u r u s\n",
      "a a c h e n o s a u r u s eos\n",
      "(1536, 27)\n",
      "(1536, 27, 28)\n",
      "10\n",
      "11\n"
     ]
    }
   ],
   "source": [
    "from keras.utils import to_categorical\n",
    "import numpy as np\n",
    "\n",
    "X_names = ['bos ' + ' '.join(name) for name in names]\n",
    "Y_names = [' '.join(name) + ' eos' for name in names]\n",
    "maxlen = max([len(name) for name in names])+1"
   ]
  },
  {
   "cell_type": "code",
   "execution_count": null,
   "metadata": {
    "collapsed": true,
    "deletable": true,
    "editable": true,
    "slideshow": {
     "slide_type": "subslide"
    }
   },
   "outputs": [],
   "source": [
    "tokenizer = Tokenizer(num_words=len(alphabet)+2)\n",
    "tokenizer.fit_on_texts(X_names+Y_names)\n",
    "\n",
    "sequences = tokenizer.texts_to_sequences(X_names)\n",
    "X_train = pad_sequences(sequences, maxlen=maxlen, padding='post')\n",
    "\n",
    "\n",
    "sequences = tokenizer.texts_to_sequences(Y_names)\n",
    "Y_train = pad_sequences(sequences, padding='post')\n",
    "\n",
    "\n",
    "Y_train_cat  = [to_categorical(sent, num_classes=len(alphabet)+2) for sent in Y_train]\n",
    "Y_train =  np.asarray(Y_train_cat)"
   ]
  },
  {
   "cell_type": "code",
   "execution_count": 285,
   "metadata": {
    "collapsed": false,
    "deletable": true,
    "editable": true,
    "slideshow": {
     "slide_type": "subslide"
    }
   },
   "outputs": [
    {
     "name": "stdout",
     "output_type": "stream",
     "text": [
      "bos a a c h e n o s a u r u s\n",
      "a a c h e n o s a u r u s eos\n",
      "(1536, 27)\n",
      "(1536, 27, 28)\n",
      "10\n",
      "11\n"
     ]
    }
   ],
   "source": [
    "print(X_names[0])\n",
    "print(Y_names[0])\n",
    "\n",
    "\n",
    "print(X_train.shape)\n",
    "print(Y_train.shape)\n",
    "\n",
    "print(tokenizer.word_index['bos'])\n",
    "print(tokenizer.word_index['eos'])"
   ]
  },
  {
   "cell_type": "code",
   "execution_count": 179,
   "metadata": {
    "collapsed": true,
    "deletable": true,
    "editable": true,
    "slideshow": {
     "slide_type": "subslide"
    }
   },
   "outputs": [],
   "source": [
    "char_index = tokenizer.word_index\n",
    "index_char = {i: c for c, i in char_index.items()}"
   ]
  },
  {
   "cell_type": "code",
   "execution_count": 241,
   "metadata": {
    "collapsed": false,
    "deletable": true,
    "editable": true,
    "slideshow": {
     "slide_type": "subslide"
    }
   },
   "outputs": [],
   "source": [
    "model = Sequential()\n",
    "\n",
    "model.add(Embedding(len(alphabet)+2, 30, input_length=maxlen))\n",
    "model.add(LSTM(128, return_sequences = True))\n",
    "model.add(TimeDistributed(Dense(len(alphabet)+2, activation = 'softmax')))\n",
    "model.compile(loss='categorical_crossentropy', optimizer='adam', metrics=['accuracy'])"
   ]
  },
  {
   "cell_type": "code",
   "execution_count": 260,
   "metadata": {
    "collapsed": false,
    "deletable": true,
    "editable": true,
    "slideshow": {
     "slide_type": "subslide"
    }
   },
   "outputs": [
    {
     "name": "stdout",
     "output_type": "stream",
     "text": [
      "Epoch 1/1\n",
      "1536/1536 [==============================] - 1s 749us/step - loss: 1.4606 - acc: 0.5722\n",
      "Epoch 1/1\n",
      "1536/1536 [==============================] - 1s 689us/step - loss: 1.4585 - acc: 0.5737\n",
      "Epoch 1/1\n",
      "1536/1536 [==============================] - 1s 727us/step - loss: 1.4564 - acc: 0.5757\n",
      "Epoch 1/1\n",
      "1536/1536 [==============================] - 1s 807us/step - loss: 1.4543 - acc: 0.5762\n",
      "Epoch 1/1\n",
      "1536/1536 [==============================] - 1s 829us/step - loss: 1.4521 - acc: 0.5763\n",
      "Epoch 1/1\n",
      "1536/1536 [==============================] - 1s 784us/step - loss: 1.4499 - acc: 0.5770\n",
      "Epoch 1/1\n",
      "1536/1536 [==============================] - 1s 826us/step - loss: 1.4477 - acc: 0.5781\n",
      "Epoch 1/1\n",
      "1536/1536 [==============================] - 1s 823us/step - loss: 1.4455 - acc: 0.5789\n",
      "Epoch 1/1\n",
      "1536/1536 [==============================] - 1s 938us/step - loss: 1.4432 - acc: 0.5799\n",
      "Epoch 1/1\n",
      "1536/1536 [==============================] - 1s 840us/step - loss: 1.4409 - acc: 0.5810\n",
      "Epoch 1/1\n",
      "1536/1536 [==============================] - 1s 739us/step - loss: 1.4387 - acc: 0.5822\n",
      "Epoch 1/1\n",
      "1536/1536 [==============================] - 1s 814us/step - loss: 1.4364 - acc: 0.5830\n",
      "Epoch 1/1\n",
      "1536/1536 [==============================] - 1s 836us/step - loss: 1.4341 - acc: 0.5840\n",
      "Epoch 1/1\n",
      "1536/1536 [==============================] - 1s 749us/step - loss: 1.4317 - acc: 0.5844\n",
      "Epoch 1/1\n",
      "1536/1536 [==============================] - 2s 1ms/step - loss: 1.4294 - acc: 0.5847\n",
      "Epoch 1/1\n",
      "1536/1536 [==============================] - 2s 1ms/step - loss: 1.4271 - acc: 0.5851\n",
      "Epoch 1/1\n",
      "1536/1536 [==============================] - 1s 952us/step - loss: 1.4247 - acc: 0.5859\n",
      "Epoch 1/1\n",
      "1536/1536 [==============================] - 2s 1ms/step - loss: 1.4223 - acc: 0.5867\n",
      "Epoch 1/1\n",
      "1536/1536 [==============================] - 2s 1ms/step - loss: 1.4200 - acc: 0.5869\n",
      "Epoch 1/1\n",
      "1536/1536 [==============================] - 1s 932us/step - loss: 1.4175 - acc: 0.5872\n",
      "Epoch 1/1\n",
      "1536/1536 [==============================] - 2s 1ms/step - loss: 1.4151 - acc: 0.5873\n",
      "Epoch 1/1\n",
      "1536/1536 [==============================] - 1s 830us/step - loss: 1.4127 - acc: 0.5876\n",
      "Epoch 1/1\n",
      "1536/1536 [==============================] - 1s 761us/step - loss: 1.4103 - acc: 0.5882\n",
      "Epoch 1/1\n",
      "1536/1536 [==============================] - 1s 738us/step - loss: 1.4079 - acc: 0.5888\n",
      "Epoch 1/1\n",
      "1536/1536 [==============================] - 1s 694us/step - loss: 1.4054 - acc: 0.5895\n",
      "Epoch 1/1\n",
      "1536/1536 [==============================] - 1s 837us/step - loss: 1.4030 - acc: 0.5897\n",
      "Epoch 1/1\n",
      "1536/1536 [==============================] - 1s 948us/step - loss: 1.4005 - acc: 0.5900\n",
      "Epoch 1/1\n",
      "1536/1536 [==============================] - 1s 719us/step - loss: 1.3981 - acc: 0.5910\n",
      "Epoch 1/1\n",
      "1536/1536 [==============================] - 1s 705us/step - loss: 1.3957 - acc: 0.5914\n",
      "Epoch 1/1\n",
      "1536/1536 [==============================] - 1s 727us/step - loss: 1.3933 - acc: 0.5914\n",
      "Epoch 1/1\n",
      "1536/1536 [==============================] - 1s 728us/step - loss: 1.3909 - acc: 0.5917\n",
      "Epoch 1/1\n",
      "1536/1536 [==============================] - 1s 754us/step - loss: 1.3885 - acc: 0.5923\n",
      "Epoch 1/1\n",
      "1536/1536 [==============================] - 1s 790us/step - loss: 1.3861 - acc: 0.5924\n",
      "Epoch 1/1\n",
      "1536/1536 [==============================] - 1s 811us/step - loss: 1.3837 - acc: 0.5928\n",
      "Epoch 1/1\n",
      "1536/1536 [==============================] - 1s 726us/step - loss: 1.3814 - acc: 0.5940\n",
      "Epoch 1/1\n",
      "1536/1536 [==============================] - 1s 843us/step - loss: 1.3790 - acc: 0.5943\n",
      "Epoch 1/1\n",
      "1536/1536 [==============================] - 1s 787us/step - loss: 1.3767 - acc: 0.5950\n",
      "Epoch 1/1\n",
      "1536/1536 [==============================] - 1s 777us/step - loss: 1.3745 - acc: 0.5961\n",
      "Epoch 1/1\n",
      "1536/1536 [==============================] - 1s 806us/step - loss: 1.3722 - acc: 0.5962\n",
      "Epoch 1/1\n",
      "1536/1536 [==============================] - 1s 793us/step - loss: 1.3700 - acc: 0.5971\n",
      "Epoch 1/1\n",
      "1536/1536 [==============================] - 1s 785us/step - loss: 1.3678 - acc: 0.5977\n",
      "Epoch 1/1\n",
      "1536/1536 [==============================] - 1s 798us/step - loss: 1.3656 - acc: 0.5983\n",
      "Epoch 1/1\n",
      "1536/1536 [==============================] - 1s 788us/step - loss: 1.3635 - acc: 0.6000\n",
      "Epoch 1/1\n",
      "1536/1536 [==============================] - 1s 739us/step - loss: 1.3614 - acc: 0.5992\n",
      "Epoch 1/1\n",
      "1536/1536 [==============================] - 1s 761us/step - loss: 1.3594 - acc: 0.6033\n",
      "Epoch 1/1\n",
      "1536/1536 [==============================] - 1s 799us/step - loss: 1.3576 - acc: 0.5992\n",
      "Epoch 1/1\n",
      "1536/1536 [==============================] - 1s 738us/step - loss: 1.3561 - acc: 0.6081\n",
      "Epoch 1/1\n",
      "1536/1536 [==============================] - 1s 724us/step - loss: 1.3542 - acc: 0.5991\n",
      "Epoch 1/1\n",
      "1536/1536 [==============================] - 1s 776us/step - loss: 1.3517 - acc: 0.6081\n",
      "Epoch 1/1\n",
      "1536/1536 [==============================] - 1s 814us/step - loss: 1.3493 - acc: 0.6052\n",
      "Epoch 1/1\n",
      "1536/1536 [==============================] - 1s 764us/step - loss: 1.3479 - acc: 0.6019\n",
      "Epoch 1/1\n",
      "1536/1536 [==============================] - 1s 732us/step - loss: 1.3462 - acc: 0.6109\n",
      "Epoch 1/1\n",
      "1536/1536 [==============================] - 1s 740us/step - loss: 1.3437 - acc: 0.6057\n",
      "Epoch 1/1\n",
      "1536/1536 [==============================] - 1s 820us/step - loss: 1.3420 - acc: 0.6055\n",
      "Epoch 1/1\n",
      "1536/1536 [==============================] - 1s 757us/step - loss: 1.3406 - acc: 0.6128\n",
      "Epoch 1/1\n",
      "1536/1536 [==============================] - 1s 757us/step - loss: 1.3384 - acc: 0.6074\n",
      "Epoch 1/1\n",
      "1536/1536 [==============================] - 1s 701us/step - loss: 1.3366 - acc: 0.6084\n",
      "Epoch 1/1\n",
      "1536/1536 [==============================] - 1s 774us/step - loss: 1.3352 - acc: 0.6143\n",
      "Epoch 1/1\n",
      "1536/1536 [==============================] - 1s 734us/step - loss: 1.3333 - acc: 0.6088\n",
      "Epoch 1/1\n",
      "1536/1536 [==============================] - 1s 713us/step - loss: 1.3315 - acc: 0.6110\n",
      "Epoch 1/1\n",
      "1536/1536 [==============================] - 1s 682us/step - loss: 1.3301 - acc: 0.6156\n",
      "Epoch 1/1\n",
      "1536/1536 [==============================] - 1s 685us/step - loss: 1.3283 - acc: 0.6111\n",
      "Epoch 1/1\n",
      "1536/1536 [==============================] - 1s 699us/step - loss: 1.3266 - acc: 0.6133\n",
      "Epoch 1/1\n",
      "1536/1536 [==============================] - 1s 686us/step - loss: 1.3252 - acc: 0.6166\n",
      "Epoch 1/1\n",
      "1536/1536 [==============================] - 1s 831us/step - loss: 1.3236 - acc: 0.6133\n",
      "Epoch 1/1\n",
      "1536/1536 [==============================] - 1s 741us/step - loss: 1.3219 - acc: 0.6158\n",
      "Epoch 1/1\n",
      "1536/1536 [==============================] - 1s 783us/step - loss: 1.3205 - acc: 0.6176\n",
      "Epoch 1/1\n",
      "1536/1536 [==============================] - 1s 862us/step - loss: 1.3190 - acc: 0.6155\n",
      "Epoch 1/1\n",
      "1536/1536 [==============================] - 2s 979us/step - loss: 1.3175 - acc: 0.6175\n",
      "Epoch 1/1\n",
      "1536/1536 [==============================] - 1s 823us/step - loss: 1.3161 - acc: 0.6186\n",
      "Epoch 1/1\n",
      "1536/1536 [==============================] - 1s 834us/step - loss: 1.3147 - acc: 0.6173\n",
      "Epoch 1/1\n",
      "1536/1536 [==============================] - 1s 966us/step - loss: 1.3132 - acc: 0.6190\n",
      "Epoch 1/1\n",
      "1536/1536 [==============================] - 2s 1ms/step - loss: 1.3118 - acc: 0.6197\n",
      "Epoch 1/1\n",
      "1536/1536 [==============================] - 1s 869us/step - loss: 1.3105 - acc: 0.6186\n",
      "Epoch 1/1\n",
      "1536/1536 [==============================] - 1s 816us/step - loss: 1.3091 - acc: 0.6205\n",
      "Epoch 1/1\n",
      "1536/1536 [==============================] - 1s 816us/step - loss: 1.3077 - acc: 0.6212\n",
      "Epoch 1/1\n",
      "1536/1536 [==============================] - 1s 933us/step - loss: 1.3064 - acc: 0.6203\n",
      "Epoch 1/1\n",
      "1536/1536 [==============================] - 1s 902us/step - loss: 1.3051 - acc: 0.6218\n",
      "Epoch 1/1\n",
      "1536/1536 [==============================] - 1s 935us/step - loss: 1.3038 - acc: 0.6222\n",
      "Epoch 1/1\n",
      "1536/1536 [==============================] - 1s 786us/step - loss: 1.3025 - acc: 0.6218\n",
      "Epoch 1/1\n",
      "1536/1536 [==============================] - 1s 842us/step - loss: 1.3012 - acc: 0.6230\n",
      "Epoch 1/1\n",
      "1536/1536 [==============================] - 1s 883us/step - loss: 1.3000 - acc: 0.6233\n",
      "Epoch 1/1\n",
      "1536/1536 [==============================] - 1s 723us/step - loss: 1.2987 - acc: 0.6231\n",
      "Epoch 1/1\n",
      "1536/1536 [==============================] - 1s 852us/step - loss: 1.2975 - acc: 0.6238\n",
      "Epoch 1/1\n",
      "1536/1536 [==============================] - 1s 781us/step - loss: 1.2963 - acc: 0.6240\n",
      "Epoch 1/1\n",
      "1536/1536 [==============================] - 1s 778us/step - loss: 1.2951 - acc: 0.6240\n",
      "Epoch 1/1\n",
      "1536/1536 [==============================] - 1s 832us/step - loss: 1.2938 - acc: 0.6244\n",
      "Epoch 1/1\n",
      "1536/1536 [==============================] - 1s 868us/step - loss: 1.2926 - acc: 0.6247\n",
      "Epoch 1/1\n",
      "1536/1536 [==============================] - 1s 910us/step - loss: 1.2914 - acc: 0.6249\n",
      "Epoch 1/1\n",
      "1536/1536 [==============================] - 1s 766us/step - loss: 1.2902 - acc: 0.6253\n",
      "Epoch 1/1\n",
      "1536/1536 [==============================] - 1s 677us/step - loss: 1.2891 - acc: 0.6256\n",
      "Epoch 1/1\n",
      "1536/1536 [==============================] - 1s 771us/step - loss: 1.2879 - acc: 0.6259\n",
      "Epoch 1/1\n",
      "1536/1536 [==============================] - 1s 683us/step - loss: 1.2867 - acc: 0.6260\n",
      "Epoch 1/1\n",
      "1536/1536 [==============================] - 1s 717us/step - loss: 1.2856 - acc: 0.6264\n",
      "Epoch 1/1\n",
      "1536/1536 [==============================] - 1s 861us/step - loss: 1.2844 - acc: 0.6268\n",
      "Epoch 1/1\n",
      "1536/1536 [==============================] - 1s 728us/step - loss: 1.2832 - acc: 0.6271\n",
      "Epoch 1/1\n",
      "1536/1536 [==============================] - 1s 743us/step - loss: 1.2821 - acc: 0.6275\n",
      "Epoch 1/1\n",
      "1536/1536 [==============================] - 1s 870us/step - loss: 1.2809 - acc: 0.6279\n",
      "Epoch 1/1\n",
      "1536/1536 [==============================] - 1s 775us/step - loss: 1.2798 - acc: 0.6281\n"
     ]
    }
   ],
   "source": [
    "for iteration in range(1, 200):\n",
    "    X_train_shuffled, y_train_shuffled = shuffle(X_train, Y_train)\n",
    "    model.fit(X_train_shuffled, y_train_shuffled, batch_size=len(X_train), epochs=1, verbose = 1)"
   ]
  },
  {
   "cell_type": "code",
   "execution_count": 195,
   "metadata": {
    "collapsed": true,
    "deletable": true,
    "editable": true,
    "slideshow": {
     "slide_type": "subslide"
    }
   },
   "outputs": [],
   "source": [
    "def sample(preds):\n",
    "    # helper function to sample an index from a probability array\n",
    "    preds = np.asarray(preds).astype('float64')\n",
    "    preds = np.log(preds) #/ temperature\n",
    "    exp_preds = np.exp(preds)\n",
    "    preds = exp_preds / np.sum(exp_preds)\n",
    "    probas = np.random.choice(range(len(alphabet)+2), p = preds)\n",
    "    return probas"
   ]
  },
  {
   "cell_type": "code",
   "execution_count": 297,
   "metadata": {
    "collapsed": false,
    "deletable": true,
    "editable": true,
    "slideshow": {
     "slide_type": "subslide"
    }
   },
   "outputs": [
    {
     "name": "stdout",
     "output_type": "stream",
     "text": [
      "----- Generating with seed: \"bos katya\"\n",
      "bos katya \n",
      "bos katya i \n",
      "bos katya i s \n",
      "bos katya i s eos \n"
     ]
    }
   ],
   "source": [
    "generated = ''\n",
    "seed = 'bos katya'\n",
    "generated += seed + ' '\n",
    "print('----- Generating with seed: \"' + seed + '\"')\n",
    "print(generated)\n",
    "\n",
    "\n",
    "for i in range(15): \n",
    "    sequences = tokenizer.texts_to_sequences([seed])\n",
    "    X_pred = pad_sequences(sequences, maxlen=maxlen, padding = 'post')\n",
    "\n",
    "    preds = model.predict(X_pred, verbose=0)[0]\n",
    "    samples = [sample(p) for p in preds]\n",
    "    next_index = samples[i]\n",
    "    while next_index == 0 or next_index == 10:\n",
    "        samples = [sample(p) for p in preds]\n",
    "        next_index = samples[i]\n",
    "    next_char = index_char[next_index]\n",
    "    generated += next_char + ' '\n",
    "    print(generated)\n",
    "    seed += next_char\n",
    "    if next_char == 'eos':\n",
    "        break\n",
    "    "
   ]
  },
  {
   "cell_type": "markdown",
   "metadata": {
    "deletable": true,
    "editable": true,
    "slideshow": {
     "slide_type": "subslide"
    }
   },
   "source": [
    "#### Задание 5\n",
    "\n",
    "Измените функцию семлирования `sample`: сейчас в ней используется простой выбор наиболее вероятного следующего элемента. Замените его на лучевой поиск [beam search].\n",
    "\n",
    "Как использование этой функции семплирования влияет на генерируемые имена?"
   ]
  },
  {
   "cell_type": "code",
   "execution_count": 283,
   "metadata": {
    "collapsed": true,
    "deletable": true,
    "editable": true,
    "slideshow": {
     "slide_type": "subslide"
    }
   },
   "outputs": [],
   "source": [
    "# решение 1.1\n",
    "def name_prob(name):\n",
    "    p = 1\n",
    "    for i in range(len(name)-1):\n",
    "        p *= unigram_prob(name[i])* cprob[names[0][i+1]].prob(name[i])\n",
    "    return p"
   ]
  },
  {
   "cell_type": "code",
   "execution_count": 231,
   "metadata": {
    "collapsed": false,
    "deletable": true,
    "editable": true
   },
   "outputs": [],
   "source": [
    "# решение 2\n",
    "def generate_name(cprob, first_char, num_chars):\n",
    "    name = ''\n",
    "    name += first_char\n",
    "    for i in range(num_chars):\n",
    "        char = cprob[first_char].generate()\n",
    "        name += char\n",
    "        first_char = char\n",
    "    return name"
   ]
  },
  {
   "cell_type": "code",
   "execution_count": null,
   "metadata": {
    "collapsed": true,
    "deletable": true,
    "editable": true
   },
   "outputs": [],
   "source": [
    "# решение 3\n",
    "for i in range(5):\n",
    "    sequences = tokenizer.texts_to_sequences([' '.join([char for char in generated[-maxlen:]])])\n",
    "    X_pred = pad_sequences(sequences, maxlen=maxlen)\n",
    "    preds = model.predict(X_pred, verbose=0)[0]\n",
    "    next_index = sample(preds)\n",
    "    next_char = index_char[next_index]\n",
    "    if next_char not in generated:\n",
    "        generated += next_char\n",
    "        print(generated)\n",
    "    else:\n",
    "        preds[next_index] = 10e-5\n",
    "        next_index = sample(preds)\n",
    "        next_char = index_char[next_index]\n",
    "        generated += next_char\n",
    "        print(generated)"
   ]
  },
  {
   "cell_type": "code",
   "execution_count": 336,
   "metadata": {
    "collapsed": true,
    "deletable": true,
    "editable": true
   },
   "outputs": [],
   "source": [
    "# решение 4\n",
    "def sample(preds, t=1.2):\n",
    "    # helper function to sample an index from a probability array\n",
    "    preds = np.asarray(preds).astype('float64')\n",
    "    preds = np.log(preds) / t\n",
    "    exp_preds = np.exp(preds)\n",
    "    preds = exp_preds / np.sum(exp_preds)\n",
    "    probas = np.random.choice(range(len(alphabet)), p = preds)\n",
    "    return probas"
   ]
  }
 ],
 "metadata": {
  "celltoolbar": "Slideshow",
  "kernelspec": {
   "display_name": "Python 3",
   "language": "python",
   "name": "python3"
  },
  "language_info": {
   "codemirror_mode": {
    "name": "ipython",
    "version": 3
   },
   "file_extension": ".py",
   "mimetype": "text/x-python",
   "name": "python",
   "nbconvert_exporter": "python",
   "pygments_lexer": "ipython3",
   "version": "3.6.0"
  }
 },
 "nbformat": 4,
 "nbformat_minor": 2
}
